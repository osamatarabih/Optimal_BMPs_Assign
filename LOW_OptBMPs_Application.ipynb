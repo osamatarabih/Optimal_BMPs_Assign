{
  "nbformat": 4,
  "nbformat_minor": 0,
  "metadata": {
    "colab": {
      "provenance": [],
      "mount_file_id": "1pUbAmwSzF_6cqz8PMpfadqeIQXZke3kt",
      "authorship_tag": "ABX9TyMXlQOapwgal6eBa7z1FBdv",
      "include_colab_link": true
    },
    "kernelspec": {
      "name": "python3",
      "display_name": "Python 3"
    },
    "language_info": {
      "name": "python"
    }
  },
  "cells": [
    {
      "cell_type": "markdown",
      "metadata": {
        "id": "view-in-github",
        "colab_type": "text"
      },
      "source": [
        "<a href=\"https://colab.research.google.com/github/osamatarabih/Optimal_BMPs_Assign/blob/main/LOW_OptBMPs_Application.ipynb\" target=\"_parent\"><img src=\"https://colab.research.google.com/assets/colab-badge.svg\" alt=\"Open In Colab\"/></a>"
      ]
    },
    {
      "cell_type": "code",
      "execution_count": null,
      "metadata": {
        "colab": {
          "base_uri": "https://localhost:8080/"
        },
        "outputId": "dc401301-111e-40dc-ac94-d2519f49b6fe",
        "id": "n5ZWzV76bOFC"
      },
      "outputs": [
        {
          "output_type": "stream",
          "name": "stdout",
          "text": [
            "Drive already mounted at /content/drive; to attempt to forcibly remount, call drive.mount(\"/content/drive\", force_remount=True).\n"
          ]
        }
      ],
      "source": [
        "import numpy as np\n",
        "import pandas as pd\n",
        "from google.colab import drive\n",
        "drive.mount('/content/drive')\n",
        "df = pd.read_csv('/content/drive/MyDrive/FEC_Opt_Scens/BMPs_1500000bound_N_2549.099.txt', sep=',')\n",
        "LOOKUP_Table = pd.read_csv('/content/drive/MyDrive/FEC_Opt_Scens/LOOKUP_Table.csv')\n",
        "LU_Base = df[' BMPs'].apply(lambda x: LOOKUP_Table[(LOOKUP_Table['BMP_Type'] == x)]['LU_Base'].values[0])\n",
        "LU_BMP = df[' BMPs'].apply(lambda x: LOOKUP_Table[(LOOKUP_Table['BMP_Type'] == x)]['LU_Code'].values[0])\n",
        "Out_df = pd.DataFrame()\n",
        "Out_df['Subbasin'] = df['Node']\n",
        "Out_df['BMP'] = df[' BMPs']\n",
        "Out_df['LU_Base'] = LU_Base\n",
        "Out_df['LU_BMP'] = LU_BMP\n",
        "\n",
        "Out_df.to_csv('/content/drive/MyDrive/FEC_Opt_Scens/BMPs_1500000bound_N_2549.099.csv')"
      ]
    },
    {
      "cell_type": "code",
      "source": [
        "# Import required Packages\n",
        "import pandas as pd\n",
        "import numpy as np\n",
        "from google.colab import drive\n",
        "drive.mount('/content/drive')\n",
        "\n",
        "# read the existing LU with Subbasins\n",
        "Existing_LU = pd.read_csv('/content/drive/MyDrive/FEC_Opt_Scens/FEC_Landuse_Subbasin.csv')\n",
        "\n",
        "Optimized_LU = pd.read_csv('/content/drive/MyDrive/FEC_Opt_Scens/BMPs_1500000bound_N_2549.099.csv')\n",
        "\n",
        "Opt_LU = np.zeros(len(Existing_LU))\n",
        "Opt_BMP = np.zeros(len(Existing_LU))\n",
        "for i in range (len(Existing_LU)):\n",
        "    for j in range (len(Optimized_LU)):\n",
        "            if Existing_LU['Subbasin'].iloc[i] == Optimized_LU['Subbasin'].iloc[j]:\n",
        "                if Existing_LU['LUID'].iloc[i] == Optimized_LU['LU_Base'].iloc[j] or (Existing_LU.duplicated(['OBJECTID'], keep=False)[i] == True and Existing_LU.loc[Existing_LU['OBJECTID'] == Existing_LU['OBJECTID'].iloc[i]]['LUID'].any() ==  Optimized_LU['LU_Base'].iloc[j]):\n",
        "                    Opt_LU[i] = Optimized_LU['LU_BMP'].iloc[j]\n",
        "                    Opt_BMP[i] = Optimized_LU['BMP'].iloc[j]\n",
        "                    break\n",
        "                else:\n",
        "                    Opt_LU[i] = Existing_LU['LUID'].iloc[i]\n",
        "                    Opt_BMP[i] = 0\n",
        "            else:\n",
        "                Opt_LU[i] = Existing_LU['LUID'].iloc[i]\n",
        "                Opt_BMP[i] = 0\n",
        "Existing_LU['Opt_LU'] = Opt_LU\n",
        "Existing_LU['Opt_BMP'] = Opt_BMP\n",
        "\n",
        "# Now the LU with Optimized LUIDs include many LUs that are separated between various subbasins, but those separated LUs need to be\n",
        "# aggregated into One LU again, I wil do this through delete the replicates based on the OBJECTID (based on the original LUs data)\n",
        "Existing_LU = Existing_LU.drop_duplicates(subset='OBJECTID')\n",
        "# Existing_LU.to_csv('C:/Osama_PC/LOW_WAM/Analyses/UK/Opt_Val/LU_with_OptimizedBMPs.csv')\n",
        "\n",
        "#### Now Add Optimized LUID into the LandUse File\n",
        "#Read the Landuse File\n",
        "Landuse = pd.read_csv('/content/drive/MyDrive/FEC_Opt_Scens/FEC_Base_LU.csv')\n",
        "Landuse = Landuse.set_index('OBJECTID')\n",
        "for i in Landuse.index:\n",
        "    if not i in Existing_LU['OBJECTID'].unique():\n",
        "        d = {'OBJECTID':i,'LUID':Landuse.loc[i]['LUID'],'Opt_LU':Landuse.loc[i]['LUID'],'Subbasin':0}\n",
        "        df = pd.DataFrame(data=d,index=[0])\n",
        "        Existing_LU = pd.concat([Existing_LU,df])\n",
        "Existing_LU.to_csv('/content/drive/MyDrive/FEC_Opt_Scens/FEC_1500000bound_N_2549.099.csv')\n",
        "\n"
      ],
      "metadata": {
        "colab": {
          "base_uri": "https://localhost:8080/"
        },
        "id": "mIK6kgKImDHL",
        "outputId": "3609aec8-7eac-41f3-a65c-7f4905fafad3"
      },
      "execution_count": null,
      "outputs": [
        {
          "output_type": "stream",
          "name": "stdout",
          "text": [
            "Drive already mounted at /content/drive; to attempt to forcibly remount, call drive.mount(\"/content/drive\", force_remount=True).\n"
          ]
        }
      ]
    }
  ]
}